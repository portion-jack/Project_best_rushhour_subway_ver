{
 "cells": [
  {
   "cell_type": "code",
   "execution_count": 1,
   "metadata": {},
   "outputs": [],
   "source": [
    "from codes_get_data.get_congest_func import get_congest\n",
    "from main_codes.read_data import read_congest,read_congest_section"
   ]
  },
  {
   "cell_type": "code",
   "execution_count": 13,
   "metadata": {},
   "outputs": [],
   "source": [
    "import pandas as pd"
   ]
  },
  {
   "cell_type": "code",
   "execution_count": 14,
   "metadata": {},
   "outputs": [],
   "source": [
    "namer=pd.read_csv('data/StationCode_mapper.csv',index_col=0)"
   ]
  },
  {
   "cell_type": "code",
   "execution_count": 20,
   "metadata": {},
   "outputs": [],
   "source": [
    "stationname = '강남역'\n",
    "stationline = '2호선'"
   ]
  },
  {
   "cell_type": "code",
   "execution_count": null,
   "metadata": {},
   "outputs": [],
   "source": [
    "\"\"\"\n",
    "get_congest()\n",
    "# path => data/final_data/xx역_xx호선_congest.csv\n",
    "# path => data/final_data/xx역_xx호선_congest_section.csv\n",
    "\"\"\"\n",
    "\n",
    "get_congest(station_name=stationname,station_line=stationline)"
   ]
  },
  {
   "cell_type": "code",
   "execution_count": 2,
   "metadata": {},
   "outputs": [],
   "source": [
    "df_congest=read_congest()\n",
    "df_congest_sectional=read_congest_section()"
   ]
  }
 ],
 "metadata": {
  "kernelspec": {
   "display_name": "crawling",
   "language": "python",
   "name": "python3"
  },
  "language_info": {
   "codemirror_mode": {
    "name": "ipython",
    "version": 3
   },
   "file_extension": ".py",
   "mimetype": "text/x-python",
   "name": "python",
   "nbconvert_exporter": "python",
   "pygments_lexer": "ipython3",
   "version": "3.10.6"
  },
  "orig_nbformat": 4,
  "vscode": {
   "interpreter": {
    "hash": "10621530bc52bc3dcaea48e2b7ef028942e35d2e6e9c9234a88fefd069caf90f"
   }
  }
 },
 "nbformat": 4,
 "nbformat_minor": 2
}
