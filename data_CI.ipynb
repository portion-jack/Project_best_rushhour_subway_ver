{
 "cells": [
  {
   "cell_type": "code",
   "execution_count": 1,
   "metadata": {},
   "outputs": [],
   "source": [
    "import os \n",
    "from glob import glob\n",
    "import json\n",
    "\n",
    "import pandas as pd\n",
    "from data_related.preprocess import *"
   ]
  },
  {
   "cell_type": "code",
   "execution_count": 2,
   "metadata": {},
   "outputs": [],
   "source": [
    "mapper=pd.read_csv('raw_data/StationCode_mapper.csv',index_col=0)"
   ]
  },
  {
   "cell_type": "code",
   "execution_count": 3,
   "metadata": {},
   "outputs": [],
   "source": [
    "path_df=pd.DataFrame(glob('raw_data/*.json'),columns=['path'])\n",
    "path_df=pd.concat([path_df,\n",
    "                   path_df['path'].apply(lambda x : [x.split('/')[1][:2], x.split('/')[1][3:6]]).apply(pd.Series).rename(columns={0:'type',1:'sc'})], axis=1)"
   ]
  },
  {
   "cell_type": "code",
   "execution_count": 4,
   "metadata": {},
   "outputs": [],
   "source": [
    "Integrated_data_list=glob('Intergrated_data/*.csv')"
   ]
  },
  {
   "cell_type": "code",
   "execution_count": 5,
   "metadata": {},
   "outputs": [],
   "source": [
    "# 1. congest data to df\n",
    "path_df_1=path_df[path_df['type']=='01']\n",
    "\n",
    "for sc in path_df_1['sc'].unique():\n",
    "    tmp=path_df_1[path_df_1['sc']==sc]\n",
    "    tmp_list = list()\n",
    "    # station_code base data_checker\n",
    "    tmp_df_info = '_'.join(mapper[mapper['stationCode']==sc].values[0][:-1])\n",
    "    # if there is data -> pass\n",
    "    if len([i for i in Integrated_data_list if '01_'+tmp_df_info in i]) != 0:\n",
    "        continue\n",
    "    for path in tmp['path']:\n",
    "        tmp_list.append(json2df(path))\n",
    "    tmp_df = pd.concat(tmp_list)\n",
    "    # if congestionTrain == 0 -> not evaluated so drop\n",
    "    tmp_df=tmp_df[tmp_df['congestionTrain']!=0]\n",
    "    tmp_df.to_csv(f'Intergrated_data/01_{tmp_df_info}.csv')"
   ]
  },
  {
   "cell_type": "code",
   "execution_count": 6,
   "metadata": {},
   "outputs": [],
   "source": [
    "# 2. congest_sectional data to df\n",
    "path_df_2=path_df[path_df['type']=='02']\n",
    "\n",
    "for sc in path_df_2['sc'].unique():\n",
    "    tmp=path_df_2[path_df_2['sc']==sc]\n",
    "    tmp_list = list()\n",
    "    tmp_df_info = '_'.join(mapper[mapper['stationCode']==sc].values[0][:-1])\n",
    "\n",
    "    # if there is data -> pass\n",
    "    if len([i for i in Integrated_data_list if '02_'+tmp_df_info in i]) != 0:\n",
    "        continue    \n",
    "    for path in tmp['path']:\n",
    "        tmp_list.append(json2df(path))\n",
    "    tmp_df = pd.concat(tmp_list)\n",
    "#     # if congestionTrain == 0 -> not evaluated so drop\n",
    "    tmp_df['congestionCar']=tmp_df['congestionCar'].apply(lambda x : x if 0 not in x else None)\n",
    "    tmp_df.dropna(inplace=True)\n",
    "    tmp_df_info = '_'.join(mapper[mapper['stationCode']==sc].values[0][:-1])\n",
    "    tmp_df.to_csv(f'Intergrated_data/02_{tmp_df_info}.csv')"
   ]
  },
  {
   "cell_type": "code",
   "execution_count": 7,
   "metadata": {},
   "outputs": [],
   "source": [
    "# 3. drop_off data to df\n",
    "path_df_3=path_df[path_df['type']=='03']\n",
    "\n",
    "for sc in path_df_3['sc'].unique():\n",
    "    tmp=path_df_3[path_df_3['sc']==sc]\n",
    "    tmp_list = list()\n",
    "    tmp_df_info = '_'.join(mapper[mapper['stationCode']==sc].values[0][:-1])\n",
    "\n",
    "    # if there is data -> pass\n",
    "    if len([i for i in Integrated_data_list if '03_'+tmp_df_info in i]) != 0:\n",
    "        continue    \n",
    "    for path in tmp['path']:\n",
    "        tmp_list.append(json2df(path))\n",
    "    tmp_df = pd.concat(tmp_list)\n",
    "#     # if congestionTrain == 0 -> not evaluated so drop\n",
    "    tmp_df['getOffCarRate']=tmp_df['getOffCarRate'].apply(lambda x : x if 0 not in x else None)\n",
    "    tmp_df.dropna(inplace=True)\n",
    "    tmp_df.to_csv(f'Intergrated_data/03_{tmp_df_info}.csv')"
   ]
  },
  {
   "cell_type": "code",
   "execution_count": null,
   "metadata": {},
   "outputs": [],
   "source": []
  }
 ],
 "metadata": {
  "kernelspec": {
   "display_name": "crawling",
   "language": "python",
   "name": "python3"
  },
  "language_info": {
   "codemirror_mode": {
    "name": "ipython",
    "version": 3
   },
   "file_extension": ".py",
   "mimetype": "text/x-python",
   "name": "python",
   "nbconvert_exporter": "python",
   "pygments_lexer": "ipython3",
   "version": "3.10.6 | packaged by conda-forge | (main, Aug 22 2022, 20:41:22) [Clang 13.0.1 ]"
  },
  "orig_nbformat": 4,
  "vscode": {
   "interpreter": {
    "hash": "10621530bc52bc3dcaea48e2b7ef028942e35d2e6e9c9234a88fefd069caf90f"
   }
  }
 },
 "nbformat": 4,
 "nbformat_minor": 2
}
