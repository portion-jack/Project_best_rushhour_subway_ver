{
 "cells": [
  {
   "cell_type": "code",
   "execution_count": 1,
   "metadata": {},
   "outputs": [],
   "source": [
    "from glob import glob\n",
    "import json\n",
    "\n",
    "import pandas as pd\n",
    "import mysql.connector\n",
    "\n",
    "from data_related.preprocess import *"
   ]
  },
  {
   "cell_type": "code",
   "execution_count": 5,
   "metadata": {},
   "outputs": [],
   "source": [
    "mapper=pd.read_csv('raw_data/StationCode_mapper.csv',index_col=0)"
   ]
  },
  {
   "cell_type": "code",
   "execution_count": 7,
   "metadata": {},
   "outputs": [
    {
     "data": {
      "text/plain": [
       "'220'"
      ]
     },
     "execution_count": 7,
     "metadata": {},
     "output_type": "execute_result"
    }
   ],
   "source": [
    "station_code=mapper[(mapper['subwayLine']=='2호선') & (mapper['stationName']=='선릉역')]['stationCode'].values[0]"
   ]
  },
  {
   "cell_type": "code",
   "execution_count": 11,
   "metadata": {},
   "outputs": [],
   "source": [
    "mydb = mysql.connector.connect(\n",
    "    host=\"localhost\",\n",
    "    user=\"root\",\n",
    "    password=\"6569\"\n",
    ")\n",
    "\n",
    "mycursor = mydb.cursor()\n",
    "mycursor.execute(\"CREATE DATABASE IF NOT EXISTS SEOUL_METRO\")\n",
    "mycursor.execute(\"USE SEOUL_METRO\")"
   ]
  },
  {
   "cell_type": "code",
   "execution_count": 62,
   "metadata": {},
   "outputs": [],
   "source": [
    "with open('raw_data/01_133_MON_08.json','r') as f:\n",
    "    tmp=json.load(f)\n",
    "    \n",
    "tmp_df_1=pd.DataFrame(tmp['contents']).drop(columns={'stat'})\n",
    "tmp_df_2=pd.DataFrame(tmp['contents']['stat'])\n",
    "tmp_df=pd.concat([tmp_df_1,tmp_df_2],axis=1)\n",
    "tmp_df=tmp_df.explode('data')\n",
    "_df_=pd.concat([tmp_df.drop(columns=['data']),tmp_df['data'].apply(pd.Series)],axis=1)"
   ]
  },
  {
   "cell_type": "code",
   "execution_count": 113,
   "metadata": {},
   "outputs": [],
   "source": [
    "with open('raw_data/02_133_MON_08.json','r') as f:\n",
    "    tmp=json.load(f)\n",
    "tmp_df_1=pd.DataFrame(tmp['contents']).drop(columns={'stat'})\n",
    "tmp_df_2=pd.DataFrame(tmp['contents']['stat'])\n",
    "tmp_df=pd.concat([tmp_df_1,tmp_df_2],axis=1)\n",
    "tmp_df=tmp_df.explode('data')\n",
    "_df_=pd.concat([tmp_df.drop(columns=['data']),tmp_df['data'].apply(pd.Series)],axis=1)"
   ]
  },
  {
   "cell_type": "code",
   "execution_count": 124,
   "metadata": {},
   "outputs": [],
   "source": [
    "with open('raw_data/03_133_MON_08.json','r') as f:\n",
    "    tmp=json.load(f)\n",
    "tmp_df_1=pd.DataFrame(tmp['contents']).drop(columns={'stat'})\n",
    "tmp_df_2=pd.DataFrame(tmp['contents']['stat'])\n",
    "tmp_df=pd.concat([tmp_df_1,tmp_df_2],axis=1)\n",
    "tmp_df=tmp_df.explode('data')\n",
    "tmp_df=pd.concat([tmp_df.drop(columns=['data']),tmp_df['data'].apply(pd.Series)],axis=1)"
   ]
  }
 ],
 "metadata": {
  "kernelspec": {
   "display_name": "crawling",
   "language": "python",
   "name": "python3"
  },
  "language_info": {
   "codemirror_mode": {
    "name": "ipython",
    "version": 3
   },
   "file_extension": ".py",
   "mimetype": "text/x-python",
   "name": "python",
   "nbconvert_exporter": "python",
   "pygments_lexer": "ipython3",
   "version": "3.10.6 | packaged by conda-forge | (main, Aug 22 2022, 20:41:22) [Clang 13.0.1 ]"
  },
  "orig_nbformat": 4,
  "vscode": {
   "interpreter": {
    "hash": "10621530bc52bc3dcaea48e2b7ef028942e35d2e6e9c9234a88fefd069caf90f"
   }
  }
 },
 "nbformat": 4,
 "nbformat_minor": 2
}
