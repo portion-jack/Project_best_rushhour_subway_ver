{
 "cells": [
  {
   "cell_type": "code",
   "execution_count": 1,
   "metadata": {},
   "outputs": [],
   "source": [
    "import os\n",
    "import matplotlib.pyplot as plt\n",
    "plt.rc('font',family='AppleGothic')\n",
    "plt.rc('axes',unicode_minus=False)\n",
    "plt.rc('date.autoformatter',minute=\"%H:%M\")\n",
    "\n",
    "import warnings\n",
    "warnings.filterwarnings(action='ignore')\n",
    "\n",
    "import pandas as pd\n",
    "import seaborn as sns\n",
    "\n",
    "from codes_get_data.get_congest_func import get_congest\n",
    "\n",
    "from main_codes.read_data import read_congest,read_congest_section\n",
    "from main_codes.show_congest_graph import relative_graph_morning,relative_graph_dinner\n",
    "from main_codes.show_congest_sectional_graph import get_sectional_df_morning,get_sectional_df_dinner,show_sectional_graph"
   ]
  }
 ],
 "metadata": {
  "kernelspec": {
   "display_name": "crawling",
   "language": "python",
   "name": "python3"
  },
  "language_info": {
   "codemirror_mode": {
    "name": "ipython",
    "version": 3
   },
   "file_extension": ".py",
   "mimetype": "text/x-python",
   "name": "python",
   "nbconvert_exporter": "python",
   "pygments_lexer": "ipython3",
   "version": "3.10.6 | packaged by conda-forge | (main, Aug 22 2022, 20:41:22) [Clang 13.0.1 ]"
  },
  "orig_nbformat": 4,
  "vscode": {
   "interpreter": {
    "hash": "10621530bc52bc3dcaea48e2b7ef028942e35d2e6e9c9234a88fefd069caf90f"
   }
  }
 },
 "nbformat": 4,
 "nbformat_minor": 2
}
