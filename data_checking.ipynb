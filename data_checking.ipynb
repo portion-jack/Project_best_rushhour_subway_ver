{
 "cells": [
  {
   "cell_type": "code",
   "execution_count": 29,
   "metadata": {},
   "outputs": [],
   "source": [
    "import os\n",
    "import pandas as pd"
   ]
  },
  {
   "cell_type": "code",
   "execution_count": 30,
   "metadata": {},
   "outputs": [],
   "source": [
    "my_data=os.listdir('preprocessed_data/')\n",
    "df=pd.DataFrame([i[:-4].split('_') for i in my_data])\n",
    "df.columns = ['data_type','DayOfWeek','Hour','SubLine','SubName']"
   ]
  },
  {
   "cell_type": "code",
   "execution_count": 41,
   "metadata": {},
   "outputs": [
    {
     "name": "stdout",
     "output_type": "stream",
     "text": [
      "건대입구역 _ 2호선 -> fine data\n",
      "왕십리역 _ 2호선 -> fine data\n",
      "디지털미디어시티역 _ 6호선 -> fine data\n",
      "강남역 _ 2호선 -> fine data\n",
      "교대역 _ 2호선 -> fine data\n",
      "잠실역 _ 2호선 -> fine data\n",
      "시청역 _ 2호선 -> fine data\n",
      "공덕역 _ 6호선 -> fine data\n",
      "역삼역 _ 2호선 -> fine data\n",
      "선릉역 _ 2호선 -> fine data\n",
      "성수역 _ 2호선 -> fine data\n"
     ]
    }
   ],
   "source": [
    "for SubName in df['SubName'].unique():\n",
    "    for SubLine in df[df['SubName'] == SubName]['SubLine'].unique():\n",
    "        cnt=0\n",
    "        current_df=df[(df['SubName'] == SubName) & (df['SubLine'] == SubLine)]\n",
    "        if len(current_df['Hour'].unique()) == 8 :\n",
    "            pass\n",
    "        elif len(current_df['Hour'].unique()) != 8:\n",
    "            print(f'problem in {SubName}_{SubLine} related to Hour')\n",
    "            cnt +=0\n",
    "        \n",
    "        if len(current_df['DayOfWeek'].unique()) == 7 :\n",
    "            pass\n",
    "        elif len(current_df['DayOfWeek'].unique()) != 7 :\n",
    "            print(f'problem in {SubName}_{SubLine} related to DayOfWeek')\n",
    "            cnt +=0\n",
    "        \n",
    "        if len(current_df['data_type'].unique()) == 3 :\n",
    "            pass\n",
    "        elif len(current_df['data_type'].unique()) != 3 :\n",
    "            print(f'problem in {SubName}_{SubLine} related to data_type')\n",
    "            cnt +=0\n",
    "        if cnt==0:\n",
    "            print(f'{SubName} _ {SubLine} -> fine data')"
   ]
  }
 ],
 "metadata": {
  "kernelspec": {
   "display_name": "crawling",
   "language": "python",
   "name": "python3"
  },
  "language_info": {
   "codemirror_mode": {
    "name": "ipython",
    "version": 3
   },
   "file_extension": ".py",
   "mimetype": "text/x-python",
   "name": "python",
   "nbconvert_exporter": "python",
   "pygments_lexer": "ipython3",
   "version": "3.10.6 | packaged by conda-forge | (main, Aug 22 2022, 20:41:22) [Clang 13.0.1 ]"
  },
  "orig_nbformat": 4,
  "vscode": {
   "interpreter": {
    "hash": "10621530bc52bc3dcaea48e2b7ef028942e35d2e6e9c9234a88fefd069caf90f"
   }
  }
 },
 "nbformat": 4,
 "nbformat_minor": 2
}
