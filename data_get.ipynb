{
 "cells": [
  {
   "cell_type": "code",
   "execution_count": 1,
   "metadata": {},
   "outputs": [],
   "source": [
    "### inputs ###\n",
    "st_name = '선릉역'\n",
    "st_line = '2호선'\n",
    "st_direct = '상행선'"
   ]
  },
  {
   "cell_type": "code",
   "execution_count": 2,
   "metadata": {
    "collapsed": true
   },
   "outputs": [],
   "source": [
    "from glob import glob\n",
    "\n",
    "import json\n",
    "import pandas as pd\n",
    "from data_related.check_data import *\n",
    "from data_related.get_data import get_data"
   ]
  },
  {
   "cell_type": "code",
   "execution_count": 3,
   "metadata": {},
   "outputs": [],
   "source": [
    "mapper = pd.read_csv('raw_data/StationCode_mapper.csv',index_col=0)\n",
    "metro_df = pd.read_csv('metro_graph/metro_graph.csv',index_col=0)"
   ]
  },
  {
   "cell_type": "code",
   "execution_count": 4,
   "metadata": {},
   "outputs": [],
   "source": [
    "# find next station\n",
    "if st_direct == '상행선':\n",
    "    st_name_next=metro_df[(metro_df['from']==st_name) & (metro_df['st_line']==st_line)]['to'].values[0]\n",
    "elif st_direct == '하행선':\n",
    "    st_name_next=metro_df[(metro_df['to']==st_name) & (metro_df['st_line']==st_line)]['from'].values[0]\n",
    "else: \n",
    "    print('something wrong in metro direction')"
   ]
  },
  {
   "cell_type": "code",
   "execution_count": 5,
   "metadata": {},
   "outputs": [],
   "source": [
    "# find st_code\n",
    "st_code=mapper[(mapper['subwayLine']==st_line) & \\\n",
    "               (mapper['stationName']==st_name)]['stationCode'].values[0]\n",
    "\n",
    "st_code_next=mapper[(mapper['subwayLine']==st_line) & \\\n",
    "            (mapper['stationName']==st_name_next)]['stationCode'].values[0]"
   ]
  },
  {
   "cell_type": "code",
   "execution_count": 6,
   "metadata": {},
   "outputs": [
    {
     "name": "stdout",
     "output_type": "stream",
     "text": [
      "==raw_data==\n",
      "congest_data => 56\n",
      "congest_sectional_paths => 56\n",
      "drop_off_paths => 56\n",
      "\n",
      "==raw_data_next==\n",
      "congest_data => 56\n",
      "congest_sectional_paths => 56\n",
      "drop_off_paths => 56\n"
     ]
    }
   ],
   "source": [
    "# check raw_data\n",
    "print('==raw_data==')\n",
    "raw_data_available=check_raw_data(st_code)\n",
    "print('\\n==raw_data_next==')\n",
    "raw_data_next_available=check_raw_data(st_code_next)"
   ]
  },
  {
   "cell_type": "code",
   "execution_count": 7,
   "metadata": {},
   "outputs": [
    {
     "name": "stdout",
     "output_type": "stream",
     "text": [
      "==Integrated_data==\n",
      "Integrated_data available\n",
      "\n",
      "==Integrated_data_next==\n",
      "Integrated_data available\n"
     ]
    }
   ],
   "source": [
    "# check Integrated_data\n",
    "print('==Integrated_data==')\n",
    "Integrated_data_available=check_Integrated_data(st_code)\n",
    "print('\\n==Integrated_data_next==')\n",
    "Integrated_data_next_available=check_Integrated_data(st_code_next)"
   ]
  },
  {
   "cell_type": "code",
   "execution_count": 8,
   "metadata": {},
   "outputs": [
    {
     "name": "stdout",
     "output_type": "stream",
     "text": [
      "0번 api 호출\n",
      "[]\n",
      "[]\n",
      "[]\n"
     ]
    }
   ],
   "source": [
    "stationname_li = [st_name,st_name_next]\n",
    "dow_list=['MON', 'TUE', 'WED', 'THU', 'FRI', 'SAT', 'SUN']\n",
    "hh_li = [str(i).zfill(2) for i in range(6,10)] + [str(i).zfill(2) for i in range(16,20)]\n",
    "\n",
    "# st_name, st_code mapper\n",
    "mapper=pd.read_csv('raw_data/StationCode_mapper.csv',index_col=0)\n",
    "\n",
    "# check data\n",
    "count = 0\n",
    "need_to_get = list()\n",
    "for stationname in stationname_li:\n",
    "    for dow in dow_list:\n",
    "        for hh in hh_li:\n",
    "            station_code=mapper[(mapper['subwayLine']==st_line) & (mapper['stationName']==stationname)]['stationCode'].values[0]\n",
    "            if len(glob(f'raw_data/??_{station_code}_{dow}_{hh}.json')) ==0:\n",
    "                # print(f'{stationname}_{dow}_{hh}')\n",
    "                need_to_get.append((stationname,dow,hh))\n",
    "                count += 1\n",
    "print(f'{count*3}번 api 호출')\n",
    "\n",
    "# find only data doenst exist\n",
    "\n",
    "stationname_li = list(set([i[0] for i in need_to_get]))\n",
    "dow_li=list(set([i[1] for i in need_to_get]))\n",
    "hh_li = list(set([i[2] for i in need_to_get]))\n",
    "\n",
    "print(sorted(stationname_li))\n",
    "print(sorted(dow_li))\n",
    "print(sorted(hh_li))"
   ]
  },
  {
   "cell_type": "code",
   "execution_count": 11,
   "metadata": {},
   "outputs": [
    {
     "name": "stdout",
     "output_type": "stream",
     "text": [
      "삼성역_2호선_MON_17 데이터 추출 완료\n",
      "삼성역_2호선_MON_06 데이터 추출 완료\n",
      "삼성역_2호선_MON_08 데이터 추출 완료\n",
      "삼성역_2호선_MON_16 데이터 추출 완료\n",
      "삼성역_2호선_MON_19 데이터 추출 완료\n",
      "삼성역_2호선_MON_09 데이터 추출 완료\n",
      "삼성역_2호선_MON_18 데이터 추출 완료\n",
      "삼성역_2호선_MON_07 데이터 추출 완료\n",
      "삼성역_2호선_TUE_17 데이터 추출 완료\n",
      "삼성역_2호선_TUE_06 데이터 추출 완료\n",
      "삼성역_2호선_TUE_08 데이터 추출 완료\n",
      "삼성역_2호선_TUE_16 데이터 추출 완료\n",
      "삼성역_2호선_TUE_19 데이터 추출 완료\n",
      "삼성역_2호선_TUE_09 데이터 추출 완료\n",
      "삼성역_2호선_TUE_18 데이터 추출 완료\n",
      "삼성역_2호선_TUE_07 데이터 추출 완료\n",
      "삼성역_2호선_WED_17 데이터 추출 완료\n",
      "삼성역_2호선_WED_06 데이터 추출 완료\n",
      "삼성역_2호선_WED_08 데이터 추출 완료\n",
      "삼성역_2호선_WED_16 데이터 추출 완료\n",
      "삼성역_2호선_WED_19 데이터 추출 완료\n",
      "삼성역_2호선_WED_09 데이터 추출 완료\n",
      "삼성역_2호선_WED_18 데이터 추출 완료\n",
      "삼성역_2호선_WED_07 데이터 추출 완료\n",
      "삼성역_2호선_THU_17 데이터 추출 완료\n",
      "삼성역_2호선_THU_06 데이터 추출 완료\n",
      "삼성역_2호선_THU_08 데이터 추출 완료\n",
      "삼성역_2호선_THU_16 데이터 추출 완료\n",
      "삼성역_2호선_THU_19 데이터 추출 완료\n",
      "삼성역_2호선_THU_09 데이터 추출 완료\n",
      "삼성역_2호선_THU_18 데이터 추출 완료\n",
      "삼성역_2호선_THU_07 데이터 추출 완료\n",
      "삼성역_2호선_FRI_17 데이터 추출 완료\n",
      "삼성역_2호선_FRI_06 데이터 추출 완료\n",
      "삼성역_2호선_FRI_08 데이터 추출 완료\n",
      "삼성역_2호선_FRI_16 데이터 추출 완료\n",
      "삼성역_2호선_FRI_19 데이터 추출 완료\n",
      "삼성역_2호선_FRI_09 데이터 추출 완료\n",
      "삼성역_2호선_FRI_18 데이터 추출 완료\n",
      "삼성역_2호선_FRI_07 데이터 추출 완료\n",
      "삼성역_2호선_SAT_17 데이터 추출 완료\n",
      "삼성역_2호선_SAT_06 데이터 추출 완료\n",
      "삼성역_2호선_SAT_08 데이터 추출 완료\n",
      "삼성역_2호선_SAT_16 데이터 추출 완료\n",
      "삼성역_2호선_SAT_19 데이터 추출 완료\n",
      "삼성역_2호선_SAT_09 데이터 추출 완료\n",
      "삼성역_2호선_SAT_18 데이터 추출 완료\n",
      "삼성역_2호선_SAT_07 데이터 추출 완료\n",
      "삼성역_2호선_SUN_17 데이터 추출 완료\n",
      "삼성역_2호선_SUN_06 데이터 추출 완료\n",
      "삼성역_2호선_SUN_08 데이터 추출 완료\n",
      "삼성역_2호선_SUN_16 데이터 추출 완료\n",
      "삼성역_2호선_SUN_19 데이터 추출 완료\n",
      "삼성역_2호선_SUN_09 데이터 추출 완료\n",
      "삼성역_2호선_SUN_18 데이터 추출 완료\n",
      "삼성역_2호선_SUN_07 데이터 추출 완료\n",
      "168번 api 호출\n"
     ]
    }
   ],
   "source": [
    "# get data\n",
    "cnt = 0\n",
    "for dow in dow_list:\n",
    "        for hh in hh_li:\n",
    "            get_data(st_code_next,dow,hh)\n",
    "            cnt += 1\n",
    "\n",
    "print(f'{cnt*3}번 api 호출')"
   ]
  },
  {
   "cell_type": "code",
   "execution_count": null,
   "metadata": {},
   "outputs": [],
   "source": []
  }
 ],
 "metadata": {
  "kernelspec": {
   "display_name": "crawling",
   "language": "python",
   "name": "python3"
  },
  "language_info": {
   "codemirror_mode": {
    "name": "ipython",
    "version": 3
   },
   "file_extension": ".py",
   "mimetype": "text/x-python",
   "name": "python",
   "nbconvert_exporter": "python",
   "pygments_lexer": "ipython3",
   "version": "3.10.6 | packaged by conda-forge | (main, Aug 22 2022, 20:41:22) [Clang 13.0.1 ]"
  },
  "vscode": {
   "interpreter": {
    "hash": "10621530bc52bc3dcaea48e2b7ef028942e35d2e6e9c9234a88fefd069caf90f"
   }
  }
 },
 "nbformat": 4,
 "nbformat_minor": 0
}
